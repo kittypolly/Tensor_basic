{
  "nbformat": 4,
  "nbformat_minor": 0,
  "metadata": {
    "colab": {
      "name": "matrix_operation_basic.ipynb",
      "provenance": [],
      "collapsed_sections": [],
      "toc_visible": true
    },
    "kernelspec": {
      "name": "python3",
      "display_name": "Python 3"
    },
    "language_info": {
      "name": "python"
    }
  },
  "cells": [
    {
      "cell_type": "markdown",
      "metadata": {
        "id": "sx7nEuNVcjhB"
      },
      "source": [
        "#전치행렬 \n",
        "\n",
        "![20210815_103234.png](data:image/png;base64,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)"
      ]
    },
    {
      "cell_type": "code",
      "metadata": {
        "id": "wcQILaI8AXfp"
      },
      "source": [
        "import numpy as np\n",
        "import torch as pt\n",
        "import tensorflow as tf"
      ],
      "execution_count": 51,
      "outputs": []
    },
    {
      "cell_type": "markdown",
      "metadata": {
        "id": "tSsfY9HChgpn"
      },
      "source": [
        "## 넘파이"
      ]
    },
    {
      "cell_type": "code",
      "metadata": {
        "colab": {
          "base_uri": "https://localhost:8080/"
        },
        "id": "TaM6-hjRcjWs",
        "outputId": "82295aea-c1a0-42ca-d72a-3806cbcd8427"
      },
      "source": [
        "x_np = np.array([[5,10],[30,15],[40,50]])\n",
        "x_np"
      ],
      "execution_count": 52,
      "outputs": [
        {
          "output_type": "execute_result",
          "data": {
            "text/plain": [
              "array([[ 5, 10],\n",
              "       [30, 15],\n",
              "       [40, 50]])"
            ]
          },
          "metadata": {
            "tags": []
          },
          "execution_count": 52
        }
      ]
    },
    {
      "cell_type": "code",
      "metadata": {
        "colab": {
          "base_uri": "https://localhost:8080/"
        },
        "id": "ToMWDfkxgbpq",
        "outputId": "22cb22d8-e250-4fc8-f5a8-df3b318c4a08"
      },
      "source": [
        "x_np.T"
      ],
      "execution_count": 53,
      "outputs": [
        {
          "output_type": "execute_result",
          "data": {
            "text/plain": [
              "array([[ 5, 30, 40],\n",
              "       [10, 15, 50]])"
            ]
          },
          "metadata": {
            "tags": []
          },
          "execution_count": 53
        }
      ]
    },
    {
      "cell_type": "markdown",
      "metadata": {
        "id": "2mevaMwyhnGR"
      },
      "source": [
        "## 파이토치"
      ]
    },
    {
      "cell_type": "code",
      "metadata": {
        "id": "6giIAuG_hHMX"
      },
      "source": [
        "x_pt = pt.tensor([[5,10],[30,15],[40,50]])"
      ],
      "execution_count": 54,
      "outputs": []
    },
    {
      "cell_type": "code",
      "metadata": {
        "colab": {
          "base_uri": "https://localhost:8080/"
        },
        "id": "JoXW5UqqhHOV",
        "outputId": "47996ca2-e31c-4fe8-8a5c-f62672cb2552"
      },
      "source": [
        "x_pt"
      ],
      "execution_count": 55,
      "outputs": [
        {
          "output_type": "execute_result",
          "data": {
            "text/plain": [
              "tensor([[ 5, 10],\n",
              "        [30, 15],\n",
              "        [40, 50]])"
            ]
          },
          "metadata": {
            "tags": []
          },
          "execution_count": 55
        }
      ]
    },
    {
      "cell_type": "markdown",
      "metadata": {
        "id": "x1s0yJD2hm4s"
      },
      "source": [
        "## 텐서플로우"
      ]
    },
    {
      "cell_type": "code",
      "metadata": {
        "colab": {
          "base_uri": "https://localhost:8080/"
        },
        "id": "igtkyA-lgeEo",
        "outputId": "f795bb58-0b05-49ea-c8b7-2fdbc0ba120f"
      },
      "source": [
        "x_tf = tf.Variable([[5,10],[30,15],[40,50]])\n",
        "x_tf"
      ],
      "execution_count": 56,
      "outputs": [
        {
          "output_type": "execute_result",
          "data": {
            "text/plain": [
              "<tf.Variable 'Variable:0' shape=(3, 2) dtype=int32, numpy=\n",
              "array([[ 5, 10],\n",
              "       [30, 15],\n",
              "       [40, 50]], dtype=int32)>"
            ]
          },
          "metadata": {
            "tags": []
          },
          "execution_count": 56
        }
      ]
    },
    {
      "cell_type": "code",
      "metadata": {
        "colab": {
          "base_uri": "https://localhost:8080/"
        },
        "id": "3swmeLX4gq3B",
        "outputId": "f1e3ba3d-728b-413e-b1f2-9537c2f2ec45"
      },
      "source": [
        "tf.transpose(x_tf)"
      ],
      "execution_count": 57,
      "outputs": [
        {
          "output_type": "execute_result",
          "data": {
            "text/plain": [
              "<tf.Tensor: shape=(2, 3), dtype=int32, numpy=\n",
              "array([[ 5, 30, 40],\n",
              "       [10, 15, 50]], dtype=int32)>"
            ]
          },
          "metadata": {
            "tags": []
          },
          "execution_count": 57
        }
      ]
    },
    {
      "cell_type": "markdown",
      "metadata": {
        "id": "SLIgzniOi5u3"
      },
      "source": [
        "# 산수"
      ]
    },
    {
      "cell_type": "markdown",
      "metadata": {
        "id": "1l5dfj_ti9fm"
      },
      "source": [
        "## 넘파이"
      ]
    },
    {
      "cell_type": "code",
      "metadata": {
        "colab": {
          "base_uri": "https://localhost:8080/"
        },
        "id": "rZFjXUTkjBKk",
        "outputId": "3fbe23a8-eb9a-41ed-9e8d-8af9a9a5665f"
      },
      "source": [
        "x_np"
      ],
      "execution_count": 58,
      "outputs": [
        {
          "output_type": "execute_result",
          "data": {
            "text/plain": [
              "array([[ 5, 10],\n",
              "       [30, 15],\n",
              "       [40, 50]])"
            ]
          },
          "metadata": {
            "tags": []
          },
          "execution_count": 58
        }
      ]
    },
    {
      "cell_type": "code",
      "metadata": {
        "colab": {
          "base_uri": "https://localhost:8080/"
        },
        "id": "FSnFSoBdjBMb",
        "outputId": "15cf6d18-375e-4b20-a167-2ae6aa630d27"
      },
      "source": [
        "x_np + 2"
      ],
      "execution_count": 59,
      "outputs": [
        {
          "output_type": "execute_result",
          "data": {
            "text/plain": [
              "array([[ 7, 12],\n",
              "       [32, 17],\n",
              "       [42, 52]])"
            ]
          },
          "metadata": {
            "tags": []
          },
          "execution_count": 59
        }
      ]
    },
    {
      "cell_type": "code",
      "metadata": {
        "colab": {
          "base_uri": "https://localhost:8080/"
        },
        "id": "GGs6WB1ljUsZ",
        "outputId": "9c46c23d-6668-46dc-c1ee-e283bab4f614"
      },
      "source": [
        "x_np * 2"
      ],
      "execution_count": 60,
      "outputs": [
        {
          "output_type": "execute_result",
          "data": {
            "text/plain": [
              "array([[ 10,  20],\n",
              "       [ 60,  30],\n",
              "       [ 80, 100]])"
            ]
          },
          "metadata": {
            "tags": []
          },
          "execution_count": 60
        }
      ]
    },
    {
      "cell_type": "code",
      "metadata": {
        "colab": {
          "base_uri": "https://localhost:8080/"
        },
        "id": "wWAZQriPjV6_",
        "outputId": "547f7bd5-3b4b-417e-af17-c308cb60355e"
      },
      "source": [
        "x_np * 2 + 2"
      ],
      "execution_count": 61,
      "outputs": [
        {
          "output_type": "execute_result",
          "data": {
            "text/plain": [
              "array([[ 12,  22],\n",
              "       [ 62,  32],\n",
              "       [ 82, 102]])"
            ]
          },
          "metadata": {
            "tags": []
          },
          "execution_count": 61
        }
      ]
    },
    {
      "cell_type": "code",
      "metadata": {
        "colab": {
          "base_uri": "https://localhost:8080/"
        },
        "id": "zwG0CVKLjmY0",
        "outputId": "27b6163f-3f1e-41a3-a3c3-dbe18d4b6c17"
      },
      "source": [
        "x_np + x_np"
      ],
      "execution_count": 62,
      "outputs": [
        {
          "output_type": "execute_result",
          "data": {
            "text/plain": [
              "array([[ 10,  20],\n",
              "       [ 60,  30],\n",
              "       [ 80, 100]])"
            ]
          },
          "metadata": {
            "tags": []
          },
          "execution_count": 62
        }
      ]
    },
    {
      "cell_type": "markdown",
      "metadata": {
        "id": "TNgHS1lxi9h1"
      },
      "source": [
        "## 파이토치"
      ]
    },
    {
      "cell_type": "code",
      "metadata": {
        "colab": {
          "base_uri": "https://localhost:8080/"
        },
        "id": "h7duqlL3jBid",
        "outputId": "d6845255-8766-47bd-b489-496f91f826e4"
      },
      "source": [
        "x_pt"
      ],
      "execution_count": 63,
      "outputs": [
        {
          "output_type": "execute_result",
          "data": {
            "text/plain": [
              "tensor([[ 5, 10],\n",
              "        [30, 15],\n",
              "        [40, 50]])"
            ]
          },
          "metadata": {
            "tags": []
          },
          "execution_count": 63
        }
      ]
    },
    {
      "cell_type": "code",
      "metadata": {
        "colab": {
          "base_uri": "https://localhost:8080/"
        },
        "id": "fpiWajnjjBkV",
        "outputId": "890122ff-6b57-41a9-c00a-3cdf499eaa95"
      },
      "source": [
        "x_pt + 2"
      ],
      "execution_count": 64,
      "outputs": [
        {
          "output_type": "execute_result",
          "data": {
            "text/plain": [
              "tensor([[ 7, 12],\n",
              "        [32, 17],\n",
              "        [42, 52]])"
            ]
          },
          "metadata": {
            "tags": []
          },
          "execution_count": 64
        }
      ]
    },
    {
      "cell_type": "code",
      "metadata": {
        "colab": {
          "base_uri": "https://localhost:8080/"
        },
        "id": "G0mqPpwcjgC1",
        "outputId": "43f5b82c-2316-4ef2-d1d6-735cce129b9d"
      },
      "source": [
        "x_pt * 2"
      ],
      "execution_count": 65,
      "outputs": [
        {
          "output_type": "execute_result",
          "data": {
            "text/plain": [
              "tensor([[ 10,  20],\n",
              "        [ 60,  30],\n",
              "        [ 80, 100]])"
            ]
          },
          "metadata": {
            "tags": []
          },
          "execution_count": 65
        }
      ]
    },
    {
      "cell_type": "code",
      "metadata": {
        "colab": {
          "base_uri": "https://localhost:8080/"
        },
        "id": "a1tKHOvyjgEv",
        "outputId": "6cd31471-8197-4fe7-8df2-c2744002c208"
      },
      "source": [
        "x_pt * 2 + 2 #작동은 하지만, 파이썬 연산이 overloaded 되므로 add나 mul을 사용하기로 하자."
      ],
      "execution_count": 66,
      "outputs": [
        {
          "output_type": "execute_result",
          "data": {
            "text/plain": [
              "tensor([[ 12,  22],\n",
              "        [ 62,  32],\n",
              "        [ 82, 102]])"
            ]
          },
          "metadata": {
            "tags": []
          },
          "execution_count": 66
        }
      ]
    },
    {
      "cell_type": "code",
      "metadata": {
        "colab": {
          "base_uri": "https://localhost:8080/"
        },
        "id": "xEAnyeJjjj_c",
        "outputId": "216bd731-c159-477c-87e2-48d881877ce0"
      },
      "source": [
        "pt.add(pt.mul(x_pt,2),2)"
      ],
      "execution_count": 67,
      "outputs": [
        {
          "output_type": "execute_result",
          "data": {
            "text/plain": [
              "tensor([[ 12,  22],\n",
              "        [ 62,  32],\n",
              "        [ 82, 102]])"
            ]
          },
          "metadata": {
            "tags": []
          },
          "execution_count": 67
        }
      ]
    },
    {
      "cell_type": "code",
      "metadata": {
        "colab": {
          "base_uri": "https://localhost:8080/"
        },
        "id": "JDC89roCrdUk",
        "outputId": "1456da2e-eed4-409b-a8b1-e02a9d6439c6"
      },
      "source": [
        "pt.add(x_pt,x_pt)"
      ],
      "execution_count": 68,
      "outputs": [
        {
          "output_type": "execute_result",
          "data": {
            "text/plain": [
              "tensor([[ 10,  20],\n",
              "        [ 60,  30],\n",
              "        [ 80, 100]])"
            ]
          },
          "metadata": {
            "tags": []
          },
          "execution_count": 68
        }
      ]
    },
    {
      "cell_type": "markdown",
      "metadata": {
        "id": "-R0LbRPWi9j3"
      },
      "source": [
        "## 텐서플로우"
      ]
    },
    {
      "cell_type": "code",
      "metadata": {
        "colab": {
          "base_uri": "https://localhost:8080/"
        },
        "id": "LVRUX0TXjB3O",
        "outputId": "3f850b6e-160f-4727-d9cb-27bd44f7d8ba"
      },
      "source": [
        "x_tf"
      ],
      "execution_count": 69,
      "outputs": [
        {
          "output_type": "execute_result",
          "data": {
            "text/plain": [
              "<tf.Variable 'Variable:0' shape=(3, 2) dtype=int32, numpy=\n",
              "array([[ 5, 10],\n",
              "       [30, 15],\n",
              "       [40, 50]], dtype=int32)>"
            ]
          },
          "metadata": {
            "tags": []
          },
          "execution_count": 69
        }
      ]
    },
    {
      "cell_type": "code",
      "metadata": {
        "colab": {
          "base_uri": "https://localhost:8080/"
        },
        "id": "tUUnVvd_jB5J",
        "outputId": "20474e15-603c-42df-ca1a-de8209bf1abd"
      },
      "source": [
        "x_tf + 2"
      ],
      "execution_count": 70,
      "outputs": [
        {
          "output_type": "execute_result",
          "data": {
            "text/plain": [
              "<tf.Tensor: shape=(3, 2), dtype=int32, numpy=\n",
              "array([[ 7, 12],\n",
              "       [32, 17],\n",
              "       [42, 52]], dtype=int32)>"
            ]
          },
          "metadata": {
            "tags": []
          },
          "execution_count": 70
        }
      ]
    },
    {
      "cell_type": "code",
      "metadata": {
        "colab": {
          "base_uri": "https://localhost:8080/"
        },
        "id": "mMB4-tgunqa0",
        "outputId": "c47d2420-80f4-458c-c872-b409651331a1"
      },
      "source": [
        "x_tf * 2"
      ],
      "execution_count": 71,
      "outputs": [
        {
          "output_type": "execute_result",
          "data": {
            "text/plain": [
              "<tf.Tensor: shape=(3, 2), dtype=int32, numpy=\n",
              "array([[ 10,  20],\n",
              "       [ 60,  30],\n",
              "       [ 80, 100]], dtype=int32)>"
            ]
          },
          "metadata": {
            "tags": []
          },
          "execution_count": 71
        }
      ]
    },
    {
      "cell_type": "code",
      "metadata": {
        "colab": {
          "base_uri": "https://localhost:8080/"
        },
        "id": "sFyM89lglLsk",
        "outputId": "536057ef-659d-4cda-df50-11d310abb95f"
      },
      "source": [
        "x_tf * 2 + 2 #작동은 하지만, 파이썬 연산이 overloaded 되므로 add나 multyply을 사용하기로 하자."
      ],
      "execution_count": 72,
      "outputs": [
        {
          "output_type": "execute_result",
          "data": {
            "text/plain": [
              "<tf.Tensor: shape=(3, 2), dtype=int32, numpy=\n",
              "array([[ 12,  22],\n",
              "       [ 62,  32],\n",
              "       [ 82, 102]], dtype=int32)>"
            ]
          },
          "metadata": {
            "tags": []
          },
          "execution_count": 72
        }
      ]
    },
    {
      "cell_type": "code",
      "metadata": {
        "colab": {
          "base_uri": "https://localhost:8080/"
        },
        "id": "Mt2vvW7MlLug",
        "outputId": "635ef690-154c-4969-cd66-21d081de3724"
      },
      "source": [
        "tf.add(tf.multiply(x_tf,2),2)"
      ],
      "execution_count": 73,
      "outputs": [
        {
          "output_type": "execute_result",
          "data": {
            "text/plain": [
              "<tf.Tensor: shape=(3, 2), dtype=int32, numpy=\n",
              "array([[ 12,  22],\n",
              "       [ 62,  32],\n",
              "       [ 82, 102]], dtype=int32)>"
            ]
          },
          "metadata": {
            "tags": []
          },
          "execution_count": 73
        }
      ]
    },
    {
      "cell_type": "code",
      "metadata": {
        "colab": {
          "base_uri": "https://localhost:8080/"
        },
        "id": "j5VvVtaErhNm",
        "outputId": "698d5ac6-d573-41db-dee5-9e10dcf6769c"
      },
      "source": [
        "tf.add(x_tf,x_tf)"
      ],
      "execution_count": 74,
      "outputs": [
        {
          "output_type": "execute_result",
          "data": {
            "text/plain": [
              "<tf.Tensor: shape=(3, 2), dtype=int32, numpy=\n",
              "array([[ 10,  20],\n",
              "       [ 60,  30],\n",
              "       [ 80, 100]], dtype=int32)>"
            ]
          },
          "metadata": {
            "tags": []
          },
          "execution_count": 74
        }
      ]
    },
    {
      "cell_type": "markdown",
      "metadata": {
        "id": "d2YbSvofjY7d"
      },
      "source": [
        "# 축소"
      ]
    },
    {
      "cell_type": "markdown",
      "metadata": {
        "id": "-mIOSsltoL5u"
      },
      "source": [
        "## 넘파이"
      ]
    },
    {
      "cell_type": "code",
      "metadata": {
        "colab": {
          "base_uri": "https://localhost:8080/"
        },
        "id": "R65xdJ2WoJfj",
        "outputId": "e4a09cc6-f658-4c14-f55e-5571ea02f22f"
      },
      "source": [
        "x_np"
      ],
      "execution_count": 78,
      "outputs": [
        {
          "output_type": "execute_result",
          "data": {
            "text/plain": [
              "array([[ 5, 10],\n",
              "       [30, 15],\n",
              "       [40, 50]])"
            ]
          },
          "metadata": {
            "tags": []
          },
          "execution_count": 78
        }
      ]
    },
    {
      "cell_type": "code",
      "metadata": {
        "colab": {
          "base_uri": "https://localhost:8080/"
        },
        "id": "eLmv6O8N8crU",
        "outputId": "bd2fb6a6-dc65-4f30-d36b-fa5fed85ccf4"
      },
      "source": [
        "x_np.sum()"
      ],
      "execution_count": 79,
      "outputs": [
        {
          "output_type": "execute_result",
          "data": {
            "text/plain": [
              "150"
            ]
          },
          "metadata": {
            "tags": []
          },
          "execution_count": 79
        }
      ]
    },
    {
      "cell_type": "code",
      "metadata": {
        "colab": {
          "base_uri": "https://localhost:8080/"
        },
        "id": "qdF0XSBt8vUu",
        "outputId": "f28b9617-1dae-4976-edea-78b135b6a314"
      },
      "source": [
        "x_np.sum(axis=1)"
      ],
      "execution_count": 86,
      "outputs": [
        {
          "output_type": "execute_result",
          "data": {
            "text/plain": [
              "array([15, 45, 90])"
            ]
          },
          "metadata": {
            "tags": []
          },
          "execution_count": 86
        }
      ]
    },
    {
      "cell_type": "markdown",
      "metadata": {
        "id": "F0aTvekJoL70"
      },
      "source": [
        "## 파이토치"
      ]
    },
    {
      "cell_type": "code",
      "metadata": {
        "colab": {
          "base_uri": "https://localhost:8080/"
        },
        "id": "0YZEZFXAoJi_",
        "outputId": "0a98d9cc-1a92-43dd-cd53-c5c991fd6b51"
      },
      "source": [
        "x_pt"
      ],
      "execution_count": 80,
      "outputs": [
        {
          "output_type": "execute_result",
          "data": {
            "text/plain": [
              "tensor([[ 5, 10],\n",
              "        [30, 15],\n",
              "        [40, 50]])"
            ]
          },
          "metadata": {
            "tags": []
          },
          "execution_count": 80
        }
      ]
    },
    {
      "cell_type": "code",
      "metadata": {
        "colab": {
          "base_uri": "https://localhost:8080/"
        },
        "id": "e52--Z4W8gA9",
        "outputId": "1ed9c73f-1893-4d0f-9c28-578147eb2ad0"
      },
      "source": [
        "pt.sum(x_pt)"
      ],
      "execution_count": 83,
      "outputs": [
        {
          "output_type": "execute_result",
          "data": {
            "text/plain": [
              "tensor(150)"
            ]
          },
          "metadata": {
            "tags": []
          },
          "execution_count": 83
        }
      ]
    },
    {
      "cell_type": "code",
      "metadata": {
        "colab": {
          "base_uri": "https://localhost:8080/"
        },
        "id": "5iTBC2Ut8yK2",
        "outputId": "40de8f73-e04f-4680-a312-d81232d769ad"
      },
      "source": [
        "pt.sum(x_pt, 0)"
      ],
      "execution_count": 89,
      "outputs": [
        {
          "output_type": "execute_result",
          "data": {
            "text/plain": [
              "tensor([75, 75])"
            ]
          },
          "metadata": {
            "tags": []
          },
          "execution_count": 89
        }
      ]
    },
    {
      "cell_type": "markdown",
      "metadata": {
        "id": "Mu0x_z-DoL96"
      },
      "source": [
        "## 텐서플로우"
      ]
    },
    {
      "cell_type": "code",
      "metadata": {
        "colab": {
          "base_uri": "https://localhost:8080/"
        },
        "id": "u6gwVoRIoJlS",
        "outputId": "668004fc-d6f4-4854-a3a3-29b4024946ec"
      },
      "source": [
        "x_tf"
      ],
      "execution_count": 84,
      "outputs": [
        {
          "output_type": "execute_result",
          "data": {
            "text/plain": [
              "<tf.Variable 'Variable:0' shape=(3, 2) dtype=int32, numpy=\n",
              "array([[ 5, 10],\n",
              "       [30, 15],\n",
              "       [40, 50]], dtype=int32)>"
            ]
          },
          "metadata": {
            "tags": []
          },
          "execution_count": 84
        }
      ]
    },
    {
      "cell_type": "code",
      "metadata": {
        "colab": {
          "base_uri": "https://localhost:8080/"
        },
        "id": "ydElQFGq8m4G",
        "outputId": "9a336aab-a2e3-4050-d3f3-2bd61143887f"
      },
      "source": [
        "tf.reduce_sum(x_tf)"
      ],
      "execution_count": 85,
      "outputs": [
        {
          "output_type": "execute_result",
          "data": {
            "text/plain": [
              "<tf.Tensor: shape=(), dtype=int32, numpy=150>"
            ]
          },
          "metadata": {
            "tags": []
          },
          "execution_count": 85
        }
      ]
    },
    {
      "cell_type": "code",
      "metadata": {
        "colab": {
          "base_uri": "https://localhost:8080/"
        },
        "id": "iY2u82SS84Mi",
        "outputId": "a10143d6-5d3c-429a-ff2d-2d62ccc71c61"
      },
      "source": [
        "tf.reduce_sum(x_tf, 0)"
      ],
      "execution_count": 90,
      "outputs": [
        {
          "output_type": "execute_result",
          "data": {
            "text/plain": [
              "<tf.Tensor: shape=(2,), dtype=int32, numpy=array([75, 75], dtype=int32)>"
            ]
          },
          "metadata": {
            "tags": []
          },
          "execution_count": 90
        }
      ]
    },
    {
      "cell_type": "markdown",
      "metadata": {
        "id": "txehrtj3pXw6"
      },
      "source": [
        "# 아다마르의 곱 (Hadamard product)\n",
        "\n",
        "같은 크기의 행렬을 곱하면 곱셈이 된다.  \n",
        "하지만, 이는 행렬의 곱과는 다르다.  \n",
        "\n",
        "![20210815_113806.png](data:image/png;base64,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)"
      ]
    },
    {
      "cell_type": "code",
      "metadata": {
        "colab": {
          "base_uri": "https://localhost:8080/"
        },
        "id": "-bWv-G-Ape33",
        "outputId": "9d3ea865-d245-400a-bedc-f24fba99f439"
      },
      "source": [
        "x_np * x_np"
      ],
      "execution_count": 75,
      "outputs": [
        {
          "output_type": "execute_result",
          "data": {
            "text/plain": [
              "array([[  25,  100],\n",
              "       [ 900,  225],\n",
              "       [1600, 2500]])"
            ]
          },
          "metadata": {
            "tags": []
          },
          "execution_count": 75
        }
      ]
    },
    {
      "cell_type": "code",
      "metadata": {
        "colab": {
          "base_uri": "https://localhost:8080/"
        },
        "id": "-cQ-EOEBpsb9",
        "outputId": "8b3c0dc3-f2cd-47e9-adb8-0b8b7ef1bb5a"
      },
      "source": [
        "x_pt * x_pt"
      ],
      "execution_count": 76,
      "outputs": [
        {
          "output_type": "execute_result",
          "data": {
            "text/plain": [
              "tensor([[  25,  100],\n",
              "        [ 900,  225],\n",
              "        [1600, 2500]])"
            ]
          },
          "metadata": {
            "tags": []
          },
          "execution_count": 76
        }
      ]
    },
    {
      "cell_type": "code",
      "metadata": {
        "colab": {
          "base_uri": "https://localhost:8080/"
        },
        "id": "1ViYQG5MpseH",
        "outputId": "cfc3b400-4cc5-4a82-873e-a1820b1a65bb"
      },
      "source": [
        "x_tf * x_tf"
      ],
      "execution_count": 77,
      "outputs": [
        {
          "output_type": "execute_result",
          "data": {
            "text/plain": [
              "<tf.Tensor: shape=(3, 2), dtype=int32, numpy=\n",
              "array([[  25,  100],\n",
              "       [ 900,  225],\n",
              "       [1600, 2500]], dtype=int32)>"
            ]
          },
          "metadata": {
            "tags": []
          },
          "execution_count": 77
        }
      ]
    }
  ]
}