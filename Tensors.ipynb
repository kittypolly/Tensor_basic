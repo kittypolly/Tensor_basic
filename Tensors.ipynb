{
  "nbformat": 4,
  "nbformat_minor": 0,
  "metadata": {
    "colab": {
      "name": "Tensors.ipynb",
      "provenance": [],
      "collapsed_sections": [],
      "toc_visible": true
    },
    "kernelspec": {
      "name": "python3",
      "display_name": "Python 3"
    },
    "language_info": {
      "name": "python"
    }
  },
  "cells": [
    {
      "cell_type": "markdown",
      "metadata": {
        "id": "goV82QaMlvGY"
      },
      "source": [
        "#텐서란 무엇인가?\n",
        "![image.png](data:image/png;base64,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)"
      ]
    },
    {
      "cell_type": "markdown",
      "metadata": {
        "id": "injhG4i-31Xy"
      },
      "source": [
        "## 랭크 0 텐서 (스칼라)"
      ]
    },
    {
      "cell_type": "markdown",
      "metadata": {
        "id": "HijR-d5lFckn"
      },
      "source": [
        "### 기본 파이썬"
      ]
    },
    {
      "cell_type": "code",
      "metadata": {
        "id": "KF3v3Ozh3QoY",
        "colab": {
          "base_uri": "https://localhost:8080/"
        },
        "outputId": "f8d3e3dd-9412-420d-e232-c279663121ae"
      },
      "source": [
        "#Scalar는 int나 float32등의 형태를 가진다.\n",
        "x = 10\n",
        "print(type(x))"
      ],
      "execution_count": 2,
      "outputs": [
        {
          "output_type": "stream",
          "text": [
            "<class 'int'>\n"
          ],
          "name": "stdout"
        }
      ]
    },
    {
      "cell_type": "code",
      "metadata": {
        "id": "6Qwga6IF4DqN",
        "colab": {
          "base_uri": "https://localhost:8080/"
        },
        "outputId": "d2cc23e0-a30b-4926-858a-732c40f7bc78"
      },
      "source": [
        "y = 30.0\n",
        "z = x + y\n",
        "print(z)\n",
        "print(type(z))"
      ],
      "execution_count": 3,
      "outputs": [
        {
          "output_type": "stream",
          "text": [
            "40.0\n",
            "<class 'float'>\n"
          ],
          "name": "stdout"
        }
      ]
    },
    {
      "cell_type": "markdown",
      "metadata": {
        "id": "iXd9UeGXFnKq"
      },
      "source": [
        "### 파이토치\n",
        " \n",
        "PyTorch의 경우 nparray와 다르게 CPU는 물론 GPU까지 사용해서 연산이 빠르다.\n",
        "\n",
        "<table align=\"left\">\n",
        "  <td>\n",
        "    <a target=\"_blank\" href=\"https://pytorch.org/docs/stable/tensors.html\">문서 링크</a>\n",
        "  </td>\n",
        "</table>"
      ]
    },
    {
      "cell_type": "code",
      "metadata": {
        "colab": {
          "base_uri": "https://localhost:8080/"
        },
        "id": "mceKlmw7FbB7",
        "outputId": "f89012ed-8404-481f-ad76-fe1c4185b144"
      },
      "source": [
        "import torch\n",
        "\n",
        "x_torch = torch.tensor(25)\n",
        "x_torch"
      ],
      "execution_count": 4,
      "outputs": [
        {
          "output_type": "execute_result",
          "data": {
            "text/plain": [
              "tensor(25)"
            ]
          },
          "metadata": {
            "tags": []
          },
          "execution_count": 4
        }
      ]
    },
    {
      "cell_type": "code",
      "metadata": {
        "colab": {
          "base_uri": "https://localhost:8080/"
        },
        "id": "zD4WZQ9RHUvV",
        "outputId": "512decbe-de46-4559-ed4f-272deea6ddd7"
      },
      "source": [
        "x_torch.shape"
      ],
      "execution_count": 5,
      "outputs": [
        {
          "output_type": "execute_result",
          "data": {
            "text/plain": [
              "torch.Size([])"
            ]
          },
          "metadata": {
            "tags": []
          },
          "execution_count": 5
        }
      ]
    },
    {
      "cell_type": "markdown",
      "metadata": {
        "id": "L32ooGG-HdJK"
      },
      "source": [
        "### 텐서플로우\n",
        " \n"
      ]
    },
    {
      "cell_type": "code",
      "metadata": {
        "id": "FSHpCLzIHdii"
      },
      "source": [
        "import tensorflow as tf"
      ],
      "execution_count": 6,
      "outputs": []
    },
    {
      "cell_type": "code",
      "metadata": {
        "id": "WgdCy4DiHhoR"
      },
      "source": [
        "x_tf = tf.Variable(10, dtype=tf.int32)"
      ],
      "execution_count": 7,
      "outputs": []
    },
    {
      "cell_type": "code",
      "metadata": {
        "colab": {
          "base_uri": "https://localhost:8080/"
        },
        "id": "DKI5mTmuIAxB",
        "outputId": "d98539b0-1a80-4199-f52d-8096ef55eac5"
      },
      "source": [
        "x_tf.shape"
      ],
      "execution_count": 8,
      "outputs": [
        {
          "output_type": "execute_result",
          "data": {
            "text/plain": [
              "TensorShape([])"
            ]
          },
          "metadata": {
            "tags": []
          },
          "execution_count": 8
        }
      ]
    },
    {
      "cell_type": "code",
      "metadata": {
        "id": "AZAk6l_gICJu"
      },
      "source": [
        "y_tf = tf.Variable(15, dtype=tf.int32)"
      ],
      "execution_count": 9,
      "outputs": []
    },
    {
      "cell_type": "code",
      "metadata": {
        "colab": {
          "base_uri": "https://localhost:8080/"
        },
        "id": "YVbwCrJlIIF7",
        "outputId": "af96429c-bbbc-4003-a06b-49db35823bd5"
      },
      "source": [
        "y_tf.shape"
      ],
      "execution_count": 10,
      "outputs": [
        {
          "output_type": "execute_result",
          "data": {
            "text/plain": [
              "TensorShape([])"
            ]
          },
          "metadata": {
            "tags": []
          },
          "execution_count": 10
        }
      ]
    },
    {
      "cell_type": "code",
      "metadata": {
        "colab": {
          "base_uri": "https://localhost:8080/"
        },
        "id": "ivBj8VzEIJc1",
        "outputId": "cdc0c606-351c-43b1-ab8f-cd1455a82c49"
      },
      "source": [
        "#같은 데이터 타입이 아니면 합쳐지지 않는다.\n",
        "z_tf = x_tf + x_tf \n",
        "z_tf"
      ],
      "execution_count": 11,
      "outputs": [
        {
          "output_type": "execute_result",
          "data": {
            "text/plain": [
              "<tf.Tensor: shape=(), dtype=int32, numpy=20>"
            ]
          },
          "metadata": {
            "tags": []
          },
          "execution_count": 11
        }
      ]
    },
    {
      "cell_type": "code",
      "metadata": {
        "colab": {
          "base_uri": "https://localhost:8080/"
        },
        "id": "2i_U0gmaIkVd",
        "outputId": "51a7d91b-3432-4712-c577-58c1f1dde9bb"
      },
      "source": [
        "type(z_tf.numpy)"
      ],
      "execution_count": 12,
      "outputs": [
        {
          "output_type": "execute_result",
          "data": {
            "text/plain": [
              "method"
            ]
          },
          "metadata": {
            "tags": []
          },
          "execution_count": 12
        }
      ]
    },
    {
      "cell_type": "code",
      "metadata": {
        "colab": {
          "base_uri": "https://localhost:8080/"
        },
        "id": "zONZhQtbI0pg",
        "outputId": "7d3ec320-4919-4ef8-9265-4f9d4ef6ff87"
      },
      "source": [
        "#method 안에 있는 것들은 이렇게 꺼낼 수 있다.\n",
        "z_tf.shape"
      ],
      "execution_count": 13,
      "outputs": [
        {
          "output_type": "execute_result",
          "data": {
            "text/plain": [
              "TensorShape([])"
            ]
          },
          "metadata": {
            "tags": []
          },
          "execution_count": 13
        }
      ]
    },
    {
      "cell_type": "code",
      "metadata": {
        "colab": {
          "base_uri": "https://localhost:8080/"
        },
        "id": "kDAojo4cJB37",
        "outputId": "0bccccd4-6278-412f-b4c1-b027c442e897"
      },
      "source": [
        "z_tf.dtype"
      ],
      "execution_count": 14,
      "outputs": [
        {
          "output_type": "execute_result",
          "data": {
            "text/plain": [
              "tf.int32"
            ]
          },
          "metadata": {
            "tags": []
          },
          "execution_count": 14
        }
      ]
    },
    {
      "cell_type": "code",
      "metadata": {
        "colab": {
          "base_uri": "https://localhost:8080/"
        },
        "id": "5HsQRJV_JPij",
        "outputId": "e50022b2-f9c5-4f3e-98da-898a4e08d4b5"
      },
      "source": [
        "z_tf.numpy()"
      ],
      "execution_count": 15,
      "outputs": [
        {
          "output_type": "execute_result",
          "data": {
            "text/plain": [
              "20"
            ]
          },
          "metadata": {
            "tags": []
          },
          "execution_count": 15
        }
      ]
    },
    {
      "cell_type": "code",
      "metadata": {
        "colab": {
          "base_uri": "https://localhost:8080/"
        },
        "id": "bgFNxxj3JbqM",
        "outputId": "be00d02d-a667-4093-b083-62ddc9079458"
      },
      "source": [
        "#float도 지정가능하다.\n",
        "a_tf = tf.Variable(20.0, dtype=tf.float64)\n",
        "a_tf"
      ],
      "execution_count": 16,
      "outputs": [
        {
          "output_type": "execute_result",
          "data": {
            "text/plain": [
              "<tf.Variable 'Variable:0' shape=() dtype=float64, numpy=20.0>"
            ]
          },
          "metadata": {
            "tags": []
          },
          "execution_count": 16
        }
      ]
    },
    {
      "cell_type": "markdown",
      "metadata": {
        "id": "wwcFqa5pM1L_"
      },
      "source": [
        "## 랭크 1 텐서 (벡터)"
      ]
    },
    {
      "cell_type": "markdown",
      "metadata": {
        "id": "LFRnoCYpWvAW"
      },
      "source": [
        "### 넘파이"
      ]
    },
    {
      "cell_type": "code",
      "metadata": {
        "id": "wlJBNpMTM6Lc"
      },
      "source": [
        "import numpy as np\n",
        "x = np.array([15,20,40])"
      ],
      "execution_count": 17,
      "outputs": []
    },
    {
      "cell_type": "code",
      "metadata": {
        "colab": {
          "base_uri": "https://localhost:8080/"
        },
        "id": "_AwrhlpNNJTF",
        "outputId": "65be6aef-2bea-4c12-db6e-02a064813cb1"
      },
      "source": [
        "len(x)"
      ],
      "execution_count": 18,
      "outputs": [
        {
          "output_type": "execute_result",
          "data": {
            "text/plain": [
              "3"
            ]
          },
          "metadata": {
            "tags": []
          },
          "execution_count": 18
        }
      ]
    },
    {
      "cell_type": "code",
      "metadata": {
        "colab": {
          "base_uri": "https://localhost:8080/"
        },
        "id": "VJ-CB_vXNJV8",
        "outputId": "b12d0e6e-bf9b-4674-dda2-5befbba10439"
      },
      "source": [
        "x.shape"
      ],
      "execution_count": 19,
      "outputs": [
        {
          "output_type": "execute_result",
          "data": {
            "text/plain": [
              "(3,)"
            ]
          },
          "metadata": {
            "tags": []
          },
          "execution_count": 19
        }
      ]
    },
    {
      "cell_type": "code",
      "metadata": {
        "colab": {
          "base_uri": "https://localhost:8080/"
        },
        "id": "TP5NgQYENJbu",
        "outputId": "11cfa13e-d2d5-4664-f0bf-dea8eac7c243"
      },
      "source": [
        "type(x)"
      ],
      "execution_count": 20,
      "outputs": [
        {
          "output_type": "execute_result",
          "data": {
            "text/plain": [
              "numpy.ndarray"
            ]
          },
          "metadata": {
            "tags": []
          },
          "execution_count": 20
        }
      ]
    },
    {
      "cell_type": "code",
      "metadata": {
        "colab": {
          "base_uri": "https://localhost:8080/"
        },
        "id": "O2LMAJpdNM60",
        "outputId": "de133daa-3aa4-4146-ed47-b5adbae24197"
      },
      "source": [
        "x[0]"
      ],
      "execution_count": 21,
      "outputs": [
        {
          "output_type": "execute_result",
          "data": {
            "text/plain": [
              "15"
            ]
          },
          "metadata": {
            "tags": []
          },
          "execution_count": 21
        }
      ]
    },
    {
      "cell_type": "markdown",
      "metadata": {
        "id": "05pUiNRBNlFX"
      },
      "source": [
        "###벡터 전치"
      ]
    },
    {
      "cell_type": "code",
      "metadata": {
        "colab": {
          "base_uri": "https://localhost:8080/"
        },
        "id": "Of76mdBHNpEr",
        "outputId": "9b1540f9-797f-4f9c-802d-f76e68ab8bc4"
      },
      "source": [
        "# rank1이지만, 매트릭스 형태가 아니면 trans가 되지 않는다.\n",
        "\n",
        "x_trans = x.T\n",
        "x_trans"
      ],
      "execution_count": 22,
      "outputs": [
        {
          "output_type": "execute_result",
          "data": {
            "text/plain": [
              "array([15, 20, 40])"
            ]
          },
          "metadata": {
            "tags": []
          },
          "execution_count": 22
        }
      ]
    },
    {
      "cell_type": "code",
      "metadata": {
        "colab": {
          "base_uri": "https://localhost:8080/"
        },
        "id": "8twbcpGoNt4i",
        "outputId": "f5d10526-34a3-4cdc-8310-1cc51414d19c"
      },
      "source": [
        "x_trans.shape"
      ],
      "execution_count": 23,
      "outputs": [
        {
          "output_type": "execute_result",
          "data": {
            "text/plain": [
              "(3,)"
            ]
          },
          "metadata": {
            "tags": []
          },
          "execution_count": 23
        }
      ]
    },
    {
      "cell_type": "code",
      "metadata": {
        "colab": {
          "base_uri": "https://localhost:8080/"
        },
        "id": "Uzs92GRzN9Yv",
        "outputId": "d4617c59-49ff-4215-ad25-f176b7e25fb7"
      },
      "source": [
        "# rank []를 한 번 더 해주어 매트릭스 형태로 바꾸면 trans가 된다.\n",
        "\n",
        "y = np.array([[20,30,40]])\n",
        "y"
      ],
      "execution_count": 24,
      "outputs": [
        {
          "output_type": "execute_result",
          "data": {
            "text/plain": [
              "array([[20, 30, 40]])"
            ]
          },
          "metadata": {
            "tags": []
          },
          "execution_count": 24
        }
      ]
    },
    {
      "cell_type": "code",
      "metadata": {
        "colab": {
          "base_uri": "https://localhost:8080/"
        },
        "id": "S8Y2oQ2KN9eo",
        "outputId": "e409d8f9-6f74-4789-f30e-519ca1d44406"
      },
      "source": [
        "y.shape"
      ],
      "execution_count": 25,
      "outputs": [
        {
          "output_type": "execute_result",
          "data": {
            "text/plain": [
              "(1, 3)"
            ]
          },
          "metadata": {
            "tags": []
          },
          "execution_count": 25
        }
      ]
    },
    {
      "cell_type": "code",
      "metadata": {
        "id": "fhw6e2PqOIG0"
      },
      "source": [
        "y_trans = y.T"
      ],
      "execution_count": 26,
      "outputs": []
    },
    {
      "cell_type": "code",
      "metadata": {
        "colab": {
          "base_uri": "https://localhost:8080/"
        },
        "id": "Um-U5ZMGQpY_",
        "outputId": "270fb2a1-4bfc-468b-dd3a-bd90736674ce"
      },
      "source": [
        "y_trans"
      ],
      "execution_count": 27,
      "outputs": [
        {
          "output_type": "execute_result",
          "data": {
            "text/plain": [
              "array([[20],\n",
              "       [30],\n",
              "       [40]])"
            ]
          },
          "metadata": {
            "tags": []
          },
          "execution_count": 27
        }
      ]
    },
    {
      "cell_type": "code",
      "metadata": {
        "colab": {
          "base_uri": "https://localhost:8080/"
        },
        "id": "cbiMUmWFRDEw",
        "outputId": "d011deed-a5c7-441e-d46b-c6483c19cebb"
      },
      "source": [
        "y_trans.shape"
      ],
      "execution_count": 28,
      "outputs": [
        {
          "output_type": "execute_result",
          "data": {
            "text/plain": [
              "(3, 1)"
            ]
          },
          "metadata": {
            "tags": []
          },
          "execution_count": 28
        }
      ]
    },
    {
      "cell_type": "code",
      "metadata": {
        "colab": {
          "base_uri": "https://localhost:8080/"
        },
        "id": "jX1qIuzpRMii",
        "outputId": "787ca838-d911-4870-8a8c-becac581e302"
      },
      "source": [
        "y_trans.T"
      ],
      "execution_count": 29,
      "outputs": [
        {
          "output_type": "execute_result",
          "data": {
            "text/plain": [
              "array([[20, 30, 40]])"
            ]
          },
          "metadata": {
            "tags": []
          },
          "execution_count": 29
        }
      ]
    },
    {
      "cell_type": "markdown",
      "metadata": {
        "id": "oS5jiMRyRSqd"
      },
      "source": [
        "### 영벡터"
      ]
    },
    {
      "cell_type": "code",
      "metadata": {
        "colab": {
          "base_uri": "https://localhost:8080/"
        },
        "id": "D2WkN6IFRwds",
        "outputId": "9714ecd0-9613-4b35-8f6d-ac0d5378981e"
      },
      "source": [
        "zeros = np.zeros(3)\n",
        "zeros"
      ],
      "execution_count": 30,
      "outputs": [
        {
          "output_type": "execute_result",
          "data": {
            "text/plain": [
              "array([0., 0., 0.])"
            ]
          },
          "metadata": {
            "tags": []
          },
          "execution_count": 30
        }
      ]
    },
    {
      "cell_type": "markdown",
      "metadata": {
        "id": "2xzaXR3fR8nR"
      },
      "source": [
        "### 파이토치"
      ]
    },
    {
      "cell_type": "code",
      "metadata": {
        "colab": {
          "base_uri": "https://localhost:8080/"
        },
        "id": "-vVfIMPxSCQ3",
        "outputId": "eaea255d-c810-49b7-8e30-a9c2709fe055"
      },
      "source": [
        "x_py = torch.tensor([30,15,20])\n",
        "x_py"
      ],
      "execution_count": 31,
      "outputs": [
        {
          "output_type": "execute_result",
          "data": {
            "text/plain": [
              "tensor([30, 15, 20])"
            ]
          },
          "metadata": {
            "tags": []
          },
          "execution_count": 31
        }
      ]
    },
    {
      "cell_type": "markdown",
      "metadata": {
        "id": "nlhJsGP2YC4q"
      },
      "source": [
        "### 텐서플로우"
      ]
    },
    {
      "cell_type": "code",
      "metadata": {
        "colab": {
          "base_uri": "https://localhost:8080/"
        },
        "id": "NcnsdSseSCS_",
        "outputId": "d1841fb9-4797-43fb-fc55-254925baf07a"
      },
      "source": [
        "x_tf = tf.Variable([10, 20, 30])\n",
        "x_tf"
      ],
      "execution_count": 32,
      "outputs": [
        {
          "output_type": "execute_result",
          "data": {
            "text/plain": [
              "<tf.Variable 'Variable:0' shape=(3,) dtype=int32, numpy=array([10, 20, 30], dtype=int32)>"
            ]
          },
          "metadata": {
            "tags": []
          },
          "execution_count": 32
        }
      ]
    },
    {
      "cell_type": "markdown",
      "metadata": {
        "id": "X4shhfrJc-4w"
      },
      "source": [
        "## Norm\n",
        "\n",
        "딥러닝에서 과적합을 피하기 위한 방법이 3가지가 있다.\n",
        "\n",
        "1. 학습 데이터를 추가  \n",
        "2. 교차 검증\n",
        "3. 정칙화(Regularization)  \n",
        "\n",
        "Norm은 세번째 방법에서 사용된다.\n",
        "다음은 L<sup>2</sup> 의 예시이다.\n",
        "\n",
        "![20210813_074924.png](data:image/png;base64,iVBORw0KGgoAAAANSUhEUgAAALMAAABmCAIAAAAPhTc4AAAAAXNSR0IArs4c6QAAAARnQU1BAACxjwv8YQUAAAAJcEhZcwAADsMAAA7DAcdvqGQAAAVtSURBVHhe7ZrrVeMwEEapIB1QgSugAxqACkID0ABUwDaQVJAKUgGpgAroY+9mdHy89sSRZMlxyHd/cCz5JY2vNFbw3Y8QHjJD+MgM4SMzhI/MED4yQ/jIDOEjM4SPzBA+MkP4yAzhIzOEj8wQPjJD+MgM4SMzhI/MED4yQ/jIDOEjM4SPzBA+MkP4yIwxdrtd0zQPv4j9fh/6dg6ZMQZmvL29hcKNITPGkBnCR2YIH5khfGSG8JEZwkdmCB+ZIXxkhvCRGcJHZgifSDO+vr44MptwlTrQtpeXl/v7+6Zp3t/fQ20EMmMMHlukGYSeI/+ks91uw1XqQMMw43A40JfVasUdw45zyIwxIs0A5Hh4eOBvKC+D/X5/d3f3/f1tRRR5fn627bPIjDHizQC0eHx8jP839/ygBXKEwjlkxhhJZgCjc7Fy0CoyS/yslm8GUeuGgFtS005cMXAwp3TbahcJhQWQaobx9PQUn87ngcCixWazCeUIMs3gTiSwbtIigtQkPdfPz09O6QaRC1ITCgsgzwzgrKSFQFVMi9SOyIwxss0ATnx9fQ2Fy8HEnKEFyIwxppgBS5CjaRpefehIS2TGlxlj0J0pZgA5JX45UANC2uOSZtgMRrEXVo6nknW/FW/BDKCbl5Ujj1pzBhsUgSOtxjxYrVa9mrJmHD+d98n4tbGIGcAijgZEDtaFUMsMYKBQQ0SsaLPIx8eHFaGGGZx+iu6NIillBhAx8n07KpZPRTPanMIymhcxNlpLjBvJJgbRuK5po6IZQJFK86ObR4ybMmO9Xi/5h/Mhdc0AyynQzSNGDTNo2CkyxmspM+hpKcNmo7oZlkdg+JtgjBk8Tq5AhmYqRjLuG3ac4Hgrn0u9Z9DmXhq9CuqaYYdlZxOO51xOxAlgG8aHPs/gFENrz1LEDDrV6/hVUNcMHiSV5BHby+MJO46cNQMbKLZhtZsOs1I9ppvBhFe8wbSK0PVCTXCohFIvuRXNsDyCHGzTXLOkm1PoBjUjZlAkj4TCES7SvWltJppBlGq0llYRJWjHDPCGS41Fuwi1zLADoG299WfKL112zYzXhWwmmsEc2Xa2LDabtnPwMNrTqWWGzRB0wIoGPaGy7U+qGewtOCZimGIGU2YbjeK0c7B9cmHbUyQeUsUM2s0G9HIeZ1m9FZPMsNyU9O3JdGhqXrizT4yHWxAQnOA9xjbCjkLUmjNiiDfDjqwd6yF5D5jg9N61K2E5xeCmobYQV2DG/vgB9PxaQJ4Z9KL4c3JhSiYy0H0Qpcg0w/JFt/9sU9NLH+MMT0GCnlscw0vrRbSADDNYfM22ruZeZgYhSop8DJlmzANakD5rDIhIUs2gwb2X7nrYmLEJg7+95f10Fm0GT+U4JPocDodwxGSI78jkn2pGvWXqEFvo0Txmi+46xYVdqQNs0WbQZyQYEnaXwMwA1j6hqkOSGVxhtt9aLI+06xHaSXEkp5CmU3Pcos2YAcywZ8/rMKOw92jjzSD08+eRbmttCjmVUzAm9RsAmRHMMNhm/mgzQqQZHN80DX/zCFeJhhYyW/RE5Dq0gXraHKo6mPehEIfM+M8MoKZNLpFm2GF5zLOQkRnJDM0wLJTr9drde3XIjGROmWH8G9Qy4zYZN+PXIDOSkRmnkBk3YcZ2u01dVMuMmzAjA5khM3xkxhxmbDabpmlC4Uq4dTMyfjbOAP9m+5dKKW7djHnAjJm/U5yOzJgDFo3t/0WvBZkxBzJD+MgM4SMzhI/MED4yQ/jsdrvZvgUshcwQPjJD+MgM4SMzhI/MED4yQ/jIDOEjM4SPzBA+MkP4yAzhIzOEj8wQPjJD+MgM4SMzhI/MED4yQ/jIDOHx8/MXK+wvJt0V7J8AAAAASUVORK5CYII=)"
      ]
    },
    {
      "cell_type": "markdown",
      "metadata": {
        "id": "gos40CMvpsbp"
      },
      "source": [
        "###L<sup>1</sup> Norm"
      ]
    },
    {
      "cell_type": "code",
      "metadata": {
        "colab": {
          "base_uri": "https://localhost:8080/"
        },
        "id": "iD1RTJwypsH2",
        "outputId": "ab80a006-9f01-4f62-cdde-b2e573171326"
      },
      "source": [
        "x"
      ],
      "execution_count": 33,
      "outputs": [
        {
          "output_type": "execute_result",
          "data": {
            "text/plain": [
              "array([15, 20, 40])"
            ]
          },
          "metadata": {
            "tags": []
          },
          "execution_count": 33
        }
      ]
    },
    {
      "cell_type": "code",
      "metadata": {
        "colab": {
          "base_uri": "https://localhost:8080/"
        },
        "id": "lWrtE9qhpvi4",
        "outputId": "640fb1a0-f279-44c9-e396-bc3c47b8431f"
      },
      "source": [
        "sum = 0 \n",
        "for i in x:\n",
        "  sum += abs(i)\n",
        "\n",
        "sum"
      ],
      "execution_count": 34,
      "outputs": [
        {
          "output_type": "execute_result",
          "data": {
            "text/plain": [
              "75"
            ]
          },
          "metadata": {
            "tags": []
          },
          "execution_count": 34
        }
      ]
    },
    {
      "cell_type": "markdown",
      "metadata": {
        "id": "RYglCQC-krrB"
      },
      "source": [
        "###L<sup>2</sup> Norm"
      ]
    },
    {
      "cell_type": "code",
      "metadata": {
        "colab": {
          "base_uri": "https://localhost:8080/"
        },
        "id": "dTQNmAMBc82T",
        "outputId": "118a4187-18d4-4ab4-fe5c-0545bbf059a8"
      },
      "source": [
        "x"
      ],
      "execution_count": 35,
      "outputs": [
        {
          "output_type": "execute_result",
          "data": {
            "text/plain": [
              "array([15, 20, 40])"
            ]
          },
          "metadata": {
            "tags": []
          },
          "execution_count": 35
        }
      ]
    },
    {
      "cell_type": "code",
      "metadata": {
        "colab": {
          "base_uri": "https://localhost:8080/"
        },
        "id": "clNb12Igk1Tm",
        "outputId": "66987cfc-f198-4717-dac1-7a614e5de291"
      },
      "source": [
        "# 이것으로 원점에서 얼마만큼의 거리가 떨어져 있는지 알 수 있다.\n",
        "\n",
        "sum = 0\n",
        "\n",
        "for i in x:\n",
        "  sum += i**2\n",
        "sum**(1/2)\n"
      ],
      "execution_count": 36,
      "outputs": [
        {
          "output_type": "execute_result",
          "data": {
            "text/plain": [
              "47.16990566028302"
            ]
          },
          "metadata": {
            "tags": []
          },
          "execution_count": 36
        }
      ]
    },
    {
      "cell_type": "code",
      "metadata": {
        "colab": {
          "base_uri": "https://localhost:8080/"
        },
        "id": "IdH7FUk7lJvn",
        "outputId": "c5431ccb-b939-401e-b01d-2393dd88f0fe"
      },
      "source": [
        "# 모듈을 이용해서 구할 수 있다.\n",
        "\n",
        "np.linalg.norm(x)"
      ],
      "execution_count": 37,
      "outputs": [
        {
          "output_type": "execute_result",
          "data": {
            "text/plain": [
              "47.16990566028302"
            ]
          },
          "metadata": {
            "tags": []
          },
          "execution_count": 37
        }
      ]
    },
    {
      "cell_type": "markdown",
      "metadata": {
        "id": "6tO2NzBEpD6y"
      },
      "source": [
        "###L<sup>2</sup> Norm의 제곱"
      ]
    },
    {
      "cell_type": "code",
      "metadata": {
        "colab": {
          "base_uri": "https://localhost:8080/"
        },
        "id": "1UnctVQGq8hs",
        "outputId": "295a4725-c71e-43c0-c621-3886ccdd4e17"
      },
      "source": [
        "x"
      ],
      "execution_count": 38,
      "outputs": [
        {
          "output_type": "execute_result",
          "data": {
            "text/plain": [
              "array([15, 20, 40])"
            ]
          },
          "metadata": {
            "tags": []
          },
          "execution_count": 38
        }
      ]
    },
    {
      "cell_type": "code",
      "metadata": {
        "colab": {
          "base_uri": "https://localhost:8080/"
        },
        "id": "EPNtMJOQq9HO",
        "outputId": "a677ebe7-f5de-4e31-ce95-3fa72529654f"
      },
      "source": [
        "sum = 0 \n",
        "for i in x:\n",
        "  sum += i**2\n",
        "\n",
        "sum"
      ],
      "execution_count": 39,
      "outputs": [
        {
          "output_type": "execute_result",
          "data": {
            "text/plain": [
              "2225"
            ]
          },
          "metadata": {
            "tags": []
          },
          "execution_count": 39
        }
      ]
    },
    {
      "cell_type": "code",
      "metadata": {
        "colab": {
          "base_uri": "https://localhost:8080/"
        },
        "id": "Dj4OAVp-q9JF",
        "outputId": "d84cac1a-536b-4fcb-a9a2-dad531a0ce7f"
      },
      "source": [
        "np.dot(x,x)"
      ],
      "execution_count": 40,
      "outputs": [
        {
          "output_type": "execute_result",
          "data": {
            "text/plain": [
              "2225"
            ]
          },
          "metadata": {
            "tags": []
          },
          "execution_count": 40
        }
      ]
    },
    {
      "cell_type": "markdown",
      "metadata": {
        "id": "odVfyJM2rYoF"
      },
      "source": [
        "###Max Norm\n",
        "\n",
        "절대값을 씌우고 그 중에 가장 큰 것을 구한다."
      ]
    },
    {
      "cell_type": "code",
      "metadata": {
        "colab": {
          "base_uri": "https://localhost:8080/"
        },
        "id": "m5XYNivLrlll",
        "outputId": "2efe567e-e064-4b68-ed1c-07b8b825b0d8"
      },
      "source": [
        "x"
      ],
      "execution_count": 41,
      "outputs": [
        {
          "output_type": "execute_result",
          "data": {
            "text/plain": [
              "array([15, 20, 40])"
            ]
          },
          "metadata": {
            "tags": []
          },
          "execution_count": 41
        }
      ]
    },
    {
      "cell_type": "code",
      "metadata": {
        "colab": {
          "base_uri": "https://localhost:8080/"
        },
        "id": "XIz504o8rmW0",
        "outputId": "54d4da71-83c2-484e-fecc-df39f4f71b90"
      },
      "source": [
        "np.max([np.abs(15), np.abs(20), np.abs(40)])"
      ],
      "execution_count": 42,
      "outputs": [
        {
          "output_type": "execute_result",
          "data": {
            "text/plain": [
              "40"
            ]
          },
          "metadata": {
            "tags": []
          },
          "execution_count": 42
        }
      ]
    },
    {
      "cell_type": "markdown",
      "metadata": {
        "id": "ZOD5EYBysjkt"
      },
      "source": [
        "###L<sup>p</sup> Norm의 일반화\n",
        "\n",
        "![20210813_082938.png](data:image/png;base64,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)"
      ]
    },
    {
      "cell_type": "markdown",
      "metadata": {
        "id": "iuhmE_0PBJFX"
      },
      "source": [
        "## 특수 벡터"
      ]
    },
    {
      "cell_type": "markdown",
      "metadata": {
        "id": "-ouqqEQRAQmy"
      },
      "source": [
        "###기저 벡터\n",
        "\n",
        "2차원  \n",
        "i = (1,0)  \n",
        "j = (0,1)  \n",
        "\n",
        "3차원    \n",
        "i = (1,0,0)  \n",
        "j = (0,1,0)  \n",
        "k = (0,0,1)\n",
        "\n"
      ]
    },
    {
      "cell_type": "markdown",
      "metadata": {
        "id": "PRcB2-EaBMHY"
      },
      "source": [
        "###수직 벡터\n",
        "\n",
        "x<sup>T</sup>y = 0 일때, x와 y는 직교관계다.  \n",
        "n차원에서는 최대 n개의 수직 벡터가 존재할 수 있다."
      ]
    },
    {
      "cell_type": "code",
      "metadata": {
        "id": "iyh52fLMBnh9"
      },
      "source": [
        "x = np.array([1,0])"
      ],
      "execution_count": 43,
      "outputs": []
    },
    {
      "cell_type": "code",
      "metadata": {
        "id": "KamsM_xQCj0E"
      },
      "source": [
        "y = np.array([0,1])"
      ],
      "execution_count": 44,
      "outputs": []
    },
    {
      "cell_type": "code",
      "metadata": {
        "colab": {
          "base_uri": "https://localhost:8080/"
        },
        "id": "ZwvBai4DCoD8",
        "outputId": "d053235b-051f-4b8f-db72-beb603e83df3"
      },
      "source": [
        "np.dot(x,y)"
      ],
      "execution_count": 45,
      "outputs": [
        {
          "output_type": "execute_result",
          "data": {
            "text/plain": [
              "0"
            ]
          },
          "metadata": {
            "tags": []
          },
          "execution_count": 45
        }
      ]
    },
    {
      "cell_type": "markdown",
      "metadata": {
        "id": "Mxi5FRyvEwXH"
      },
      "source": [
        "##랭크 2 텐서 (매트릭스)"
      ]
    },
    {
      "cell_type": "markdown",
      "metadata": {
        "id": "jkCVbwAtFEvq"
      },
      "source": [
        "###넘파이"
      ]
    },
    {
      "cell_type": "code",
      "metadata": {
        "colab": {
          "base_uri": "https://localhost:8080/"
        },
        "id": "lZ8xZccpFCXe",
        "outputId": "d65e707b-01f7-4df9-e4a2-c375f679967c"
      },
      "source": [
        "X = np.array([[10,20,30],[5,15,25],[3,6,9]])\n",
        "X"
      ],
      "execution_count": 46,
      "outputs": [
        {
          "output_type": "execute_result",
          "data": {
            "text/plain": [
              "array([[10, 20, 30],\n",
              "       [ 5, 15, 25],\n",
              "       [ 3,  6,  9]])"
            ]
          },
          "metadata": {
            "tags": []
          },
          "execution_count": 46
        }
      ]
    },
    {
      "cell_type": "code",
      "metadata": {
        "colab": {
          "base_uri": "https://localhost:8080/"
        },
        "id": "UvuoilaYIDZv",
        "outputId": "1f02cd21-b5cc-423b-cbb1-7ca9f9087103"
      },
      "source": [
        "X.shape"
      ],
      "execution_count": 47,
      "outputs": [
        {
          "output_type": "execute_result",
          "data": {
            "text/plain": [
              "(3, 3)"
            ]
          },
          "metadata": {
            "tags": []
          },
          "execution_count": 47
        }
      ]
    },
    {
      "cell_type": "code",
      "metadata": {
        "colab": {
          "base_uri": "https://localhost:8080/"
        },
        "id": "HVLuN6avIDb0",
        "outputId": "5bcf3298-d6aa-4775-f017-3a4c5df33338"
      },
      "source": [
        "X.size"
      ],
      "execution_count": 48,
      "outputs": [
        {
          "output_type": "execute_result",
          "data": {
            "text/plain": [
              "9"
            ]
          },
          "metadata": {
            "tags": []
          },
          "execution_count": 48
        }
      ]
    },
    {
      "cell_type": "code",
      "metadata": {
        "colab": {
          "base_uri": "https://localhost:8080/"
        },
        "id": "9OGcerBnIQ-I",
        "outputId": "965d9711-d64d-474f-8812-ab2c6e1f1fc9"
      },
      "source": [
        "X[:, 1]"
      ],
      "execution_count": 49,
      "outputs": [
        {
          "output_type": "execute_result",
          "data": {
            "text/plain": [
              "array([20, 15,  6])"
            ]
          },
          "metadata": {
            "tags": []
          },
          "execution_count": 49
        }
      ]
    },
    {
      "cell_type": "code",
      "metadata": {
        "colab": {
          "base_uri": "https://localhost:8080/"
        },
        "id": "GYpAevhBIRAU",
        "outputId": "e2d96dd2-82f7-4b66-a8a1-2f3ae58fecd6"
      },
      "source": [
        "X[0,:]"
      ],
      "execution_count": 50,
      "outputs": [
        {
          "output_type": "execute_result",
          "data": {
            "text/plain": [
              "array([10, 20, 30])"
            ]
          },
          "metadata": {
            "tags": []
          },
          "execution_count": 50
        }
      ]
    },
    {
      "cell_type": "code",
      "metadata": {
        "colab": {
          "base_uri": "https://localhost:8080/"
        },
        "id": "kOwXXtdOIRCb",
        "outputId": "18d8506b-6aa3-41ac-9a04-8f5e97fb6a83"
      },
      "source": [
        "X[0:2,0:2]"
      ],
      "execution_count": 51,
      "outputs": [
        {
          "output_type": "execute_result",
          "data": {
            "text/plain": [
              "array([[10, 20],\n",
              "       [ 5, 15]])"
            ]
          },
          "metadata": {
            "tags": []
          },
          "execution_count": 51
        }
      ]
    },
    {
      "cell_type": "markdown",
      "metadata": {
        "id": "u6AGZWD_FEyK"
      },
      "source": [
        "###파이토치"
      ]
    },
    {
      "cell_type": "code",
      "metadata": {
        "colab": {
          "base_uri": "https://localhost:8080/"
        },
        "id": "0TxRdcgLUPB_",
        "outputId": "f42cf5f7-214e-408b-c082-eadc4a4d503c"
      },
      "source": [
        "x_torch = torch.tensor([[10,20],[30,40],[50,60]])\n",
        "x_torch"
      ],
      "execution_count": 52,
      "outputs": [
        {
          "output_type": "execute_result",
          "data": {
            "text/plain": [
              "tensor([[10, 20],\n",
              "        [30, 40],\n",
              "        [50, 60]])"
            ]
          },
          "metadata": {
            "tags": []
          },
          "execution_count": 52
        }
      ]
    },
    {
      "cell_type": "code",
      "metadata": {
        "colab": {
          "base_uri": "https://localhost:8080/"
        },
        "id": "Jdm51GtPVHNX",
        "outputId": "7bb0b21e-43c8-4cb4-e534-583d42e1cd8f"
      },
      "source": [
        "x_torch.shape"
      ],
      "execution_count": 53,
      "outputs": [
        {
          "output_type": "execute_result",
          "data": {
            "text/plain": [
              "torch.Size([3, 2])"
            ]
          },
          "metadata": {
            "tags": []
          },
          "execution_count": 53
        }
      ]
    },
    {
      "cell_type": "code",
      "metadata": {
        "colab": {
          "base_uri": "https://localhost:8080/"
        },
        "id": "YuaJmcYGVKtB",
        "outputId": "52201111-8e10-429f-bb88-ec5521952aae"
      },
      "source": [
        "x_torch[1,:]"
      ],
      "execution_count": 54,
      "outputs": [
        {
          "output_type": "execute_result",
          "data": {
            "text/plain": [
              "tensor([30, 40])"
            ]
          },
          "metadata": {
            "tags": []
          },
          "execution_count": 54
        }
      ]
    },
    {
      "cell_type": "markdown",
      "metadata": {
        "id": "ORAJZfXnFEz9"
      },
      "source": [
        "###텐서플로우"
      ]
    },
    {
      "cell_type": "code",
      "metadata": {
        "colab": {
          "base_uri": "https://localhost:8080/"
        },
        "id": "N5-HnQXGX9BC",
        "outputId": "23e111da-6454-4995-deab-34648d91bc90"
      },
      "source": [
        "x_tf = tf.Variable([[10,20],[30,40],[50,60]])\n",
        "x_tf"
      ],
      "execution_count": 55,
      "outputs": [
        {
          "output_type": "execute_result",
          "data": {
            "text/plain": [
              "<tf.Variable 'Variable:0' shape=(3, 2) dtype=int32, numpy=\n",
              "array([[10, 20],\n",
              "       [30, 40],\n",
              "       [50, 60]], dtype=int32)>"
            ]
          },
          "metadata": {
            "tags": []
          },
          "execution_count": 55
        }
      ]
    },
    {
      "cell_type": "code",
      "metadata": {
        "colab": {
          "base_uri": "https://localhost:8080/"
        },
        "id": "YMOnzsozYUru",
        "outputId": "f4f2fe6e-f84e-4573-9db9-13888f089aae"
      },
      "source": [
        "#numpy 뒤에 나오는 숫자가 랭크다.\n",
        "tf.rank(x_tf)"
      ],
      "execution_count": 56,
      "outputs": [
        {
          "output_type": "execute_result",
          "data": {
            "text/plain": [
              "<tf.Tensor: shape=(), dtype=int32, numpy=2>"
            ]
          },
          "metadata": {
            "tags": []
          },
          "execution_count": 56
        }
      ]
    },
    {
      "cell_type": "code",
      "metadata": {
        "colab": {
          "base_uri": "https://localhost:8080/"
        },
        "id": "If0nov9tYvXM",
        "outputId": "9c94b134-b2bf-40a6-db90-645a112ff686"
      },
      "source": [
        "tf.shape(x_tf)"
      ],
      "execution_count": 57,
      "outputs": [
        {
          "output_type": "execute_result",
          "data": {
            "text/plain": [
              "<tf.Tensor: shape=(2,), dtype=int32, numpy=array([3, 2], dtype=int32)>"
            ]
          },
          "metadata": {
            "tags": []
          },
          "execution_count": 57
        }
      ]
    },
    {
      "cell_type": "code",
      "metadata": {
        "colab": {
          "base_uri": "https://localhost:8080/"
        },
        "id": "nhKjBwJIYQGO",
        "outputId": "e8092ae9-1f8f-4541-ea6f-47e7f8fd7486"
      },
      "source": [
        "x_tf[1,:]"
      ],
      "execution_count": 58,
      "outputs": [
        {
          "output_type": "execute_result",
          "data": {
            "text/plain": [
              "<tf.Tensor: shape=(2,), dtype=int32, numpy=array([30, 40], dtype=int32)>"
            ]
          },
          "metadata": {
            "tags": []
          },
          "execution_count": 58
        }
      ]
    },
    {
      "cell_type": "markdown",
      "metadata": {
        "id": "Tfs-cd0xWJjG"
      },
      "source": [
        "##랭크 3 (텐서)"
      ]
    },
    {
      "cell_type": "markdown",
      "metadata": {
        "id": "AfuodJswW4HX"
      },
      "source": [
        "###넘파이"
      ]
    },
    {
      "cell_type": "code",
      "metadata": {
        "colab": {
          "base_uri": "https://localhost:8080/"
        },
        "id": "2gWkZV6tWfhr",
        "outputId": "d096a3e8-bf44-4f06-e7f0-9933e7c6a14c"
      },
      "source": [
        "x = np.array([[[20, 25, 30],[10,5,2],[1,2,7]], [[10,15,8],[40,50,1],[3,8,4]]])\n",
        "x"
      ],
      "execution_count": 70,
      "outputs": [
        {
          "output_type": "execute_result",
          "data": {
            "text/plain": [
              "array([[[20, 25, 30],\n",
              "        [10,  5,  2],\n",
              "        [ 1,  2,  7]],\n",
              "\n",
              "       [[10, 15,  8],\n",
              "        [40, 50,  1],\n",
              "        [ 3,  8,  4]]])"
            ]
          },
          "metadata": {
            "tags": []
          },
          "execution_count": 70
        }
      ]
    },
    {
      "cell_type": "code",
      "metadata": {
        "colab": {
          "base_uri": "https://localhost:8080/"
        },
        "id": "CKrcX1TdWrrR",
        "outputId": "08808c42-30db-4f76-f7ce-78b7bf57f31d"
      },
      "source": [
        "#큰 묶음으로 2개, 그 다음 작은 묶음 , 내용물을 갯수\n",
        "x.shape"
      ],
      "execution_count": 72,
      "outputs": [
        {
          "output_type": "execute_result",
          "data": {
            "text/plain": [
              "(2, 3, 3)"
            ]
          },
          "metadata": {
            "tags": []
          },
          "execution_count": 72
        }
      ]
    },
    {
      "cell_type": "code",
      "metadata": {
        "colab": {
          "base_uri": "https://localhost:8080/"
        },
        "id": "kp05cPcMXm81",
        "outputId": "59c14a34-f60f-4200-dbac-cf756864c557"
      },
      "source": [
        "x.size"
      ],
      "execution_count": 74,
      "outputs": [
        {
          "output_type": "execute_result",
          "data": {
            "text/plain": [
              "18"
            ]
          },
          "metadata": {
            "tags": []
          },
          "execution_count": 74
        }
      ]
    },
    {
      "cell_type": "code",
      "metadata": {
        "colab": {
          "base_uri": "https://localhost:8080/"
        },
        "id": "t9yUkFL5Xt3O",
        "outputId": "67d4e210-15d7-4c38-a058-673175235d49"
      },
      "source": [
        "#위에서 설명한 바와 같이 큰 묶음, 작은 묶음, 내용물의 순서로 찾아갈 수 있다.\n",
        "x[0][0][1]"
      ],
      "execution_count": 78,
      "outputs": [
        {
          "output_type": "execute_result",
          "data": {
            "text/plain": [
              "25"
            ]
          },
          "metadata": {
            "tags": []
          },
          "execution_count": 78
        }
      ]
    },
    {
      "cell_type": "markdown",
      "metadata": {
        "id": "BQTiYYN3W5jR"
      },
      "source": [
        "###파이토치"
      ]
    },
    {
      "cell_type": "code",
      "metadata": {
        "colab": {
          "base_uri": "https://localhost:8080/"
        },
        "id": "MwSP4jhvdfKz",
        "outputId": "442e73f9-d6ec-4a63-f7d9-08cc80c9acdf"
      },
      "source": [
        "x_torch = torch.tensor([[[20, 25, 30],[10,5,2],[1,2,7]], [[10,15,8],[40,50,1],[3,8,4]]])\n",
        "x_torch"
      ],
      "execution_count": 82,
      "outputs": [
        {
          "output_type": "execute_result",
          "data": {
            "text/plain": [
              "tensor([[[20, 25, 30],\n",
              "         [10,  5,  2],\n",
              "         [ 1,  2,  7]],\n",
              "\n",
              "        [[10, 15,  8],\n",
              "         [40, 50,  1],\n",
              "         [ 3,  8,  4]]])"
            ]
          },
          "metadata": {
            "tags": []
          },
          "execution_count": 82
        }
      ]
    },
    {
      "cell_type": "code",
      "metadata": {
        "colab": {
          "base_uri": "https://localhost:8080/"
        },
        "id": "1F2U8XRVdqF3",
        "outputId": "d8b59635-ec9e-4533-dda1-686535f4e8c2"
      },
      "source": [
        "x_torch.shape"
      ],
      "execution_count": 83,
      "outputs": [
        {
          "output_type": "execute_result",
          "data": {
            "text/plain": [
              "torch.Size([2, 3, 3])"
            ]
          },
          "metadata": {
            "tags": []
          },
          "execution_count": 83
        }
      ]
    },
    {
      "cell_type": "code",
      "metadata": {
        "colab": {
          "base_uri": "https://localhost:8080/"
        },
        "id": "8Sex5__hdqKY",
        "outputId": "a3849e86-6d44-4223-c92f-1d8de146fbeb"
      },
      "source": [
        "x_torch[0,1,:]"
      ],
      "execution_count": 89,
      "outputs": [
        {
          "output_type": "execute_result",
          "data": {
            "text/plain": [
              "tensor([10,  5,  2])"
            ]
          },
          "metadata": {
            "tags": []
          },
          "execution_count": 89
        }
      ]
    },
    {
      "cell_type": "markdown",
      "metadata": {
        "id": "mfbqLVTXW6_G"
      },
      "source": [
        "###텐서플로우"
      ]
    },
    {
      "cell_type": "code",
      "metadata": {
        "colab": {
          "base_uri": "https://localhost:8080/"
        },
        "id": "m4Pge9RNd9T1",
        "outputId": "45e6d716-9769-482c-f046-98d80fb07221"
      },
      "source": [
        "x_tf = tf.Variable([[[20, 25, 30],[10,5,2],[1,2,7]], [[10,15,8],[40,50,1],[3,8,4]]])\n",
        "x_tf"
      ],
      "execution_count": 91,
      "outputs": [
        {
          "output_type": "execute_result",
          "data": {
            "text/plain": [
              "<tf.Variable 'Variable:0' shape=(2, 3, 3) dtype=int32, numpy=\n",
              "array([[[20, 25, 30],\n",
              "        [10,  5,  2],\n",
              "        [ 1,  2,  7]],\n",
              "\n",
              "       [[10, 15,  8],\n",
              "        [40, 50,  1],\n",
              "        [ 3,  8,  4]]], dtype=int32)>"
            ]
          },
          "metadata": {
            "tags": []
          },
          "execution_count": 91
        }
      ]
    },
    {
      "cell_type": "code",
      "metadata": {
        "colab": {
          "base_uri": "https://localhost:8080/"
        },
        "id": "Rsmw9ICLeFpf",
        "outputId": "4f02259d-d35e-401b-921e-2237f4cc4895"
      },
      "source": [
        "x_tf.shape"
      ],
      "execution_count": 94,
      "outputs": [
        {
          "output_type": "execute_result",
          "data": {
            "text/plain": [
              "array([[[20, 25, 30],\n",
              "        [10,  5,  2],\n",
              "        [ 1,  2,  7]],\n",
              "\n",
              "       [[10, 15,  8],\n",
              "        [40, 50,  1],\n",
              "        [ 3,  8,  4]]], dtype=int32)"
            ]
          },
          "metadata": {
            "tags": []
          },
          "execution_count": 94
        }
      ]
    },
    {
      "cell_type": "code",
      "metadata": {
        "colab": {
          "base_uri": "https://localhost:8080/"
        },
        "id": "2Lx4ikhueM3m",
        "outputId": "ddb34379-97a6-4083-ebaa-215590559bcd"
      },
      "source": [
        "x_tf.numpy()"
      ],
      "execution_count": 95,
      "outputs": [
        {
          "output_type": "execute_result",
          "data": {
            "text/plain": [
              "TensorShape([2, 3, 3])"
            ]
          },
          "metadata": {
            "tags": []
          },
          "execution_count": 95
        }
      ]
    }
  ]
}